{
 "cells": [
  {
   "cell_type": "code",
   "execution_count": 1,
   "metadata": {},
   "outputs": [],
   "source": [
    "import json\n",
    "import os\n",
    "import cv2\n",
    "import mediapipe as mp\n"
   ]
  },
  {
   "cell_type": "code",
   "execution_count": 2,
   "metadata": {},
   "outputs": [
    {
     "name": "stderr",
     "output_type": "stream",
     "text": [
      "WARNING: All log messages before absl::InitializeLog() is called are written to STDERR\n",
      "I0000 00:00:1733094152.306691 16318738 gl_context.cc:357] GL version: 2.1 (2.1 Metal - 76.3), renderer: Apple M2\n"
     ]
    },
    {
     "name": "stderr",
     "output_type": "stream",
     "text": [
      "INFO: Created TensorFlow Lite XNNPACK delegate for CPU.\n",
      "W0000 00:00:1733094152.348823 16322680 inference_feedback_manager.cc:114] Feedback manager requires a model with a single signature inference. Disabling support for feedback tensors.\n",
      "W0000 00:00:1733094152.360177 16322679 inference_feedback_manager.cc:114] Feedback manager requires a model with a single signature inference. Disabling support for feedback tensors.\n"
     ]
    }
   ],
   "source": [
    "mp_hands = mp.solutions.hands\n",
    "hands = mp_hands.Hands()\n",
    "mp_drawing = mp.solutions.drawing_utils"
   ]
  },
  {
   "cell_type": "code",
   "execution_count": 4,
   "metadata": {},
   "outputs": [
    {
     "name": "stderr",
     "output_type": "stream",
     "text": [
      "INFO: Created TensorFlow Lite XNNPACK delegate for CPU.\n"
     ]
    }
   ],
   "source": [
    "train_dir = 'train'\n",
    "train = json.load(open('train/_annotations.coco.json', 'r'))\n",
    "valid = json.load(open('valid/_annotations.coco.json', 'r'))\n",
    "test = json.load(open('test/_annotations.coco.json', 'r'))"
   ]
  },
  {
   "cell_type": "code",
   "execution_count": 5,
   "metadata": {},
   "outputs": [
    {
     "data": {
      "text/plain": [
       "dict_keys(['info', 'licenses', 'categories', 'images', 'annotations'])"
      ]
     },
     "execution_count": 5,
     "metadata": {},
     "output_type": "execute_result"
    }
   ],
   "source": [
    "train.keys()"
   ]
  },
  {
   "cell_type": "code",
   "execution_count": 8,
   "metadata": {},
   "outputs": [
    {
     "name": "stderr",
     "output_type": "stream",
     "text": [
      "I0000 00:00:1732721770.951210 3516221 gl_context.cc:357] GL version: 2.1 (2.1 Metal - 76.3), renderer: Apple M2\n",
      "W0000 00:00:1732721770.979128 3522670 inference_feedback_manager.cc:114] Feedback manager requires a model with a single signature inference. Disabling support for feedback tensors.\n",
      "W0000 00:00:1732721770.991736 3522670 inference_feedback_manager.cc:114] Feedback manager requires a model with a single signature inference. Disabling support for feedback tensors.\n"
     ]
    }
   ],
   "source": [
    "mp_hands = mp.solutions.hands\n",
    "\n",
    "# Assuming 'valid' is a dictionary with 'images' and 'annotations'\n",
    "# valid = {'images': [{'file_name': 'example.jpg'}], 'annotations': [{}]}\n",
    "\n",
    "with mp_hands.Hands(static_image_mode=True, max_num_hands=1, min_detection_confidence=0.5) as hands:\n",
    "    for img, anno in zip(valid['images'], valid['annotations']):\n",
    "        # Read the image\n",
    "        img_src = img['file_name']\n",
    "        image_path = os.path.join(\"valid\", img_src)\n",
    "        image = cv2.imread(image_path)\n",
    "\n",
    "        if image is None:\n",
    "            print(f\"Error reading image: {image_path}\")\n",
    "            continue\n",
    "\n",
    "        # Convert to RGB for Mediapipe\n",
    "        image_rgb = cv2.cvtColor(image, cv2.COLOR_BGR2RGB)\n",
    "\n",
    "\n",
    "        # Process the image and detect hands\n",
    "        results = hands.process(image_rgb)\n",
    "\n",
    "        # Extract hand keypoints\n",
    "        keypoints = []\n",
    "        if results.multi_hand_landmarks:\n",
    "            for hand_landmarks in results.multi_hand_landmarks:\n",
    "                keypoints.extend([[h.x, h.y, h.z] for h in hand_landmarks.landmark])\n",
    "                \n",
    "\n",
    "        # Update the annotations with detected keypoints\n",
    "        anno['keypoints'] = keypoints\n",
    "\n",
    "        flipped_horizontally = cv2.flip(image, 1)\n",
    "        results = hands.process(flipped_horizontally)\n",
    "\n",
    "        # Extract hand keypoints\n",
    "        keypoints = []\n",
    "        if results.multi_hand_landmarks:\n",
    "            for hand_landmarks in results.multi_hand_landmarks:\n",
    "                keypoints.extend([[h.x, h.y, h.z] for h in hand_landmarks.landmark])\n",
    "                \n",
    "\n",
    "        # Update the annotations with detected keypoints\n",
    "        anno['flipped_keypoints'] = keypoints\n"
   ]
  },
  {
   "cell_type": "code",
   "execution_count": 9,
   "metadata": {},
   "outputs": [],
   "source": [
    "with open(\"valid/_mediapipe_annotated.json\", 'w') as json_file:\n",
    "    json.dump(valid, json_file, indent=4)\n",
    "    json_file.flush()"
   ]
  },
  {
   "cell_type": "code",
   "execution_count": 6,
   "metadata": {},
   "outputs": [
    {
     "name": "stdout",
     "output_type": "stream",
     "text": [
      "{'id': 0, 'image_id': 0, 'category_id': 21, 'bbox': [38, 69, 309, 320], 'area': 98880, 'segmentation': [], 'iscrowd': 0}\n"
     ]
    }
   ],
   "source": [
    "print(train['annotations'][0])\n",
    "# print(train['annotations'][1])"
   ]
  },
  {
   "cell_type": "code",
   "execution_count": null,
   "metadata": {},
   "outputs": [],
   "source": []
  },
  {
   "cell_type": "code",
   "execution_count": 7,
   "metadata": {},
   "outputs": [],
   "source": [
    "category = {}\n",
    "for anno in train['annotations']:\n",
    "    if anno['category_id'] in category:\n",
    "        category[anno['category_id']] +=1\n",
    "    else:\n",
    "        category[anno['category_id']] =1"
   ]
  },
  {
   "cell_type": "code",
   "execution_count": 8,
   "metadata": {},
   "outputs": [
    {
     "data": {
      "text/plain": [
       "26"
      ]
     },
     "execution_count": 8,
     "metadata": {},
     "output_type": "execute_result"
    }
   ],
   "source": [
    "category\n",
    "len(category)"
   ]
  },
  {
   "cell_type": "code",
   "execution_count": 10,
   "metadata": {},
   "outputs": [
    {
     "data": {
      "text/plain": [
       "[1,\n",
       " 2,\n",
       " 3,\n",
       " 4,\n",
       " 5,\n",
       " 6,\n",
       " 7,\n",
       " 8,\n",
       " 9,\n",
       " 10,\n",
       " 11,\n",
       " 12,\n",
       " 13,\n",
       " 14,\n",
       " 15,\n",
       " 16,\n",
       " 17,\n",
       " 18,\n",
       " 19,\n",
       " 20,\n",
       " 21,\n",
       " 22,\n",
       " 23,\n",
       " 24,\n",
       " 25,\n",
       " 26]"
      ]
     },
     "execution_count": 10,
     "metadata": {},
     "output_type": "execute_result"
    }
   ],
   "source": [
    "sorted(category.keys())"
   ]
  },
  {
   "cell_type": "code",
   "execution_count": null,
   "metadata": {},
   "outputs": [],
   "source": []
  }
 ],
 "metadata": {
  "kernelspec": {
   "display_name": "Python python3",
   "language": "python",
   "name": "myenv"
  },
  "language_info": {
   "codemirror_mode": {
    "name": "ipython",
    "version": 3
   },
   "file_extension": ".py",
   "mimetype": "text/x-python",
   "name": "python",
   "nbconvert_exporter": "python",
   "pygments_lexer": "ipython3",
   "version": "3.11.6"
  }
 },
 "nbformat": 4,
 "nbformat_minor": 2
}
