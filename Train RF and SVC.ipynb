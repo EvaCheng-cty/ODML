{
 "cells": [
  {
   "cell_type": "code",
   "execution_count": 1,
   "id": "79866959",
   "metadata": {},
   "outputs": [],
   "source": [
    "import json\n",
    "import torch\n",
    "import torch.nn as nn\n",
    "import torch.optim as optim\n",
    "from torch.utils.data import Dataset, DataLoader\n",
    "import numpy as np\n",
    "from dataset import KeypointRandDataset, KeypointRotDataset\n",
    "import albumentations as A\n"
   ]
  },
  {
   "cell_type": "code",
   "execution_count": 2,
   "id": "004c90a2",
   "metadata": {},
   "outputs": [],
   "source": [
    "import importlib\n",
    "import dataset\n",
    "\n",
    "# Reload the module\n",
    "importlib.reload(dataset)\n",
    "\n",
    "train_json = \"train/_mediapipe_annotated.json\"\n",
    "val_json = \"valid/_mediapipe_annotated.json\"\n",
    "test_json = \"test/_mediapipe_annotated.json\"\n",
    "input_dim = 63  # 21 keypoints * 3 coordinates\n",
    "hidden_dim = 256\n"
   ]
  },
  {
   "cell_type": "code",
   "execution_count": 3,
   "id": "063226d3",
   "metadata": {},
   "outputs": [],
   "source": [
    "num_classes = 26  # Adjust based on your dataset\n",
    "\n",
    "# Dataset and DataLoader\n",
    "train_dataset = KeypointRotDataset(train_json,  True)\n",
    "val_dataset = KeypointRotDataset(val_json, True)\n",
    "test_dataset = KeypointRotDataset(test_json, True)"
   ]
  },
  {
   "cell_type": "code",
   "execution_count": 4,
   "id": "93028a79",
   "metadata": {},
   "outputs": [
    {
     "name": "stdout",
     "output_type": "stream",
     "text": [
      "(1205, 63) (1205,) (61, 63) (61,) (133, 63) (133,)\n"
     ]
    }
   ],
   "source": [
    "train_keypoints = train_dataset.keypoints\n",
    "X_train = train_keypoints - train_keypoints[:, [9]]\n",
    "# X_train = X_train[:, :, :2].reshape(-1, 42)\n",
    "X_train = X_train[:, :, :3].reshape(-1, 63)\n",
    "y_train = train_dataset.categories\n",
    "\n",
    "val_keypoints = val_dataset.keypoints\n",
    "X_val = val_keypoints - val_keypoints[:, [9]]\n",
    "# X_val = X_val[:, :, :2].reshape(-1, 42)\n",
    "X_val = X_val[:, :, :3].reshape(-1, 63)\n",
    "y_val = val_dataset.categories\n",
    "\n",
    "test_keypoints = test_dataset.keypoints\n",
    "X_test = test_keypoints - test_keypoints[:, [9]]\n",
    "# X_test = X_test[:, :, :2].reshape(-1, 42)\n",
    "X_test = X_test[:, :, :3].reshape(-1, 63)\n",
    "y_test = test_dataset.categories\n",
    "\n",
    "print(X_train.shape, y_train.shape, X_test.shape, y_test.shape, X_val.shape, y_val.shape)"
   ]
  },
  {
   "cell_type": "code",
   "execution_count": 5,
   "id": "5d40e9d5",
   "metadata": {},
   "outputs": [],
   "source": [
    "# # plot an example\n",
    "# eg = X_train[0]\n",
    "# plt.scatter(eg[:, 0], eg[:, 1])\n",
    "# plt.xlim(-1, 1)\n",
    "# plt.ylim(-1, 1)"
   ]
  },
  {
   "cell_type": "code",
   "execution_count": 6,
   "id": "83edac23",
   "metadata": {
    "scrolled": false
   },
   "outputs": [
    {
     "name": "stdout",
     "output_type": "stream",
     "text": [
      "0.8270676691729323\n",
      "0.819672131147541\n",
      "1.0\n"
     ]
    }
   ],
   "source": [
    "# train a randomforest\n",
    "from sklearn.ensemble import RandomForestClassifier, ExtraTreesClassifier\n",
    "from sklearn.svm import SVC\n",
    "from sklearn.metrics import classification_report, accuracy_score\n",
    "\n",
    "rf = RandomForestClassifier(random_state=42, n_estimators=200, n_jobs=-1)\n",
    "rf.fit(X_train, y_train)\n",
    "\n",
    "print(accuracy_score(rf.predict(X_val), y_val))\n",
    "print(accuracy_score(rf.predict(X_test), y_test))\n",
    "print(accuracy_score(rf.predict(X_train), y_train))\n",
    "\n",
    "# print(classification_report(rf.predict(X_val), y_val))\n",
    "# print(classification_report(rf.predict(X_test), y_test))\n",
    "# print(classification_report(rf.predict(X_train), y_train))\n",
    "\n",
    "# ex = ExtraTreesClassifier(random_state=42, n_estimators=100, n_jobs=-1)\n",
    "# ex.fit(X_train, y_train)\n",
    "\n",
    "\n",
    "# print(classification_report(ex.predict(X_val), y_val))\n",
    "# print(classification_report(ex.predict(X_test), y_test))\n",
    "# print(classification_report(ex.predict(X_train), y_train))"
   ]
  },
  {
   "cell_type": "code",
   "execution_count": 7,
   "id": "ba99e328",
   "metadata": {},
   "outputs": [
    {
     "name": "stdout",
     "output_type": "stream",
     "text": [
      "0.7969924812030075\n",
      "0.8032786885245902\n",
      "0.9228215767634855\n"
     ]
    }
   ],
   "source": [
    "svc = SVC(random_state=42)\n",
    "svc.fit(X_train, y_train)\n",
    "\n",
    "print(accuracy_score(svc.predict(X_val), y_val))\n",
    "print(accuracy_score(svc.predict(X_test), y_test))\n",
    "print(accuracy_score(svc.predict(X_train), y_train))\n",
    "\n",
    "# print(classification_report(svc.predict(X_val), y_val))\n",
    "# print(classification_report(svc.predict(X_test), y_test))\n",
    "# print(classification_report(svc.predict(X_train), y_train))"
   ]
  },
  {
   "cell_type": "code",
   "execution_count": 8,
   "id": "57ca6c61",
   "metadata": {},
   "outputs": [],
   "source": [
    "# save the models\n",
    "import pickle as pkl\n",
    "with open(\"rf_model.pkl\", \"wb\") as f:\n",
    "    pkl.dump(rf, f)\n",
    "with open(\"svc_model.pkl\", \"wb\") as f:\n",
    "    pkl.dump(svc, f)"
   ]
  },
  {
   "cell_type": "code",
   "execution_count": null,
   "id": "03a0adad",
   "metadata": {},
   "outputs": [],
   "source": []
  }
 ],
 "metadata": {
  "kernelspec": {
   "display_name": "Python 3 (ipykernel)",
   "language": "python",
   "name": "python3"
  },
  "language_info": {
   "codemirror_mode": {
    "name": "ipython",
    "version": 3
   },
   "file_extension": ".py",
   "mimetype": "text/x-python",
   "name": "python",
   "nbconvert_exporter": "python",
   "pygments_lexer": "ipython3",
   "version": "3.11.7"
  }
 },
 "nbformat": 4,
 "nbformat_minor": 5
}
